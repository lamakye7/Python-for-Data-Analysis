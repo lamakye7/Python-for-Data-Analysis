{
 "cells": [
  {
   "cell_type": "markdown",
   "metadata": {},
   "source": [
    "# Assignment"
   ]
  },
  {
   "cell_type": "code",
   "execution_count": 26,
   "metadata": {},
   "outputs": [
    {
     "name": "stdout",
     "output_type": "stream",
     "text": [
      "The string list is ['Ama']\n",
      "The integer list is [54]\n",
      "The string list is ['Ama', 'Kojo']\n",
      "The float list  [45.5]\n",
      "The string list is ['Ama', 'Kojo', 'Yhup']\n",
      "The integer list is [54, 52]\n",
      "The string list is ['Ama', 'Kojo', 'Kwame', 'Yhup']\n",
      "The integer list is [54, 52, 96]\n",
      "The string list is ['Ama', 'Kojo', 'Kwame', 'Kwesi', 'Yhup']\n",
      "The integer list is [54, 52, 96, 87]\n",
      "The string list is ['Ama', 'Kojo', 'Kwame', 'Kwesi', 'Roland', 'Yhup']\n",
      "The boolean list is [True]\n",
      "The string list is ['Ama', 'Kojo', 'Kwame', 'Kwesi', 'Nti', 'Roland', 'Yhup']\n",
      "The integer list is [54, 52, 96, 87, 45]\n",
      "The float list  [45.5, 78.5]\n",
      "The string list is ['Ama', 'Kojo', 'Kwame', 'Kwesi', 'Nti', 'Roland', 'William', 'Yhup']\n",
      "The integer list is [54, 52, 96, 87, 45, 68]\n",
      "The float list  [45.5, 78.5, 45.3]\n",
      "The integer list is [54, 52, 96, 87, 45, 68, 78]\n",
      "The string list is ['Ama', 'Kojo', 'Kwame', 'Kwesi', 'Nti', 'Patty', 'Roland', 'William', 'Yhup']\n",
      "The boolean list is [False, True]\n",
      "The integer list is [54, 52, 96, 87, 45, 68, 78, 98]\n",
      "The boolean list is [False, True, True]\n",
      "The string list is ['Adwoa', 'Ama', 'Kojo', 'Kwame', 'Kwesi', 'Nti', 'Patty', 'Roland', 'William', 'Yhup']\n",
      "The integer list is [54, 52, 96, 87, 45, 68, 78, 98, 21]\n",
      "The integer list is [54, 52, 96, 87, 45, 68, 78, 98, 21, 65]\n",
      "The string list is ['Adwoa', 'Ama', 'Kojo', 'Kwame', 'Kwesi', 'Nti', 'Pappy', 'Patty', 'Roland', 'William', 'Yhup']\n",
      "The integer list is [54, 52, 96, 87, 45, 68, 78, 98, 21, 65, 14]\n",
      "The string list is ['Adwoa', 'Ama', 'Folly', 'Kojo', 'Kwame', 'Kwesi', 'Nti', 'Pappy', 'Patty', 'Roland', 'William', 'Yhup']\n",
      "The boolean list is [False, False, True, True]\n",
      "The integer list is [54, 52, 96, 87, 45, 68, 78, 98, 21, 65, 14, 52]\n",
      "The string list is ['Adwoa', 'Ama', 'Folly', 'Kojo', 'Kwame', 'Kwesi', 'Nti', 'Pappy', 'Patty', 'Pency', 'Roland', 'William', 'Yhup']\n"
     ]
    }
   ],
   "source": [
    "pythonlist = ['Ama', 54, 'Kojo', 45.5, 'Yhup', 52, 'Kwame', 96, 'Kwesi', 87, 'Roland', True, 'Nti',\n",
    "             45, 78.5, 'William', 68, 45.3, 78, 'Patty', False, 98, True, 'Adwoa',21, 65, 'Pappy',\n",
    "             14, 'Folly', False, 52, 'Pency']\n",
    "#first attempt need help here\n",
    "Floats =[]\n",
    "Ints=[]\n",
    "Strings=[]\n",
    "Booleans=[]\n",
    "def newlists():\n",
    "    for item in pythonlist:\n",
    "        if type(item)==str:\n",
    "\n",
    "            Strings.append(item)\n",
    "            Strings.sort()\n",
    "            print(\"The string list is\", Strings)\n",
    "           \n",
    "        elif type(item)==int:\n",
    "            Ints.append(item)\n",
    "            print('The integer list is', Ints)\n",
    "        elif type(item)==float:\n",
    "            Floats.append(item)\n",
    "            print('The float list ', Floats)\n",
    "        elif type(item)==bool:\n",
    "            Booleans.append(item)\n",
    "            Booleans.sort()\n",
    "            print('The boolean list is',Booleans)\n",
    "        else:\n",
    "            pass\n",
    "            \n",
    "            \n",
    "            \n",
    "                \n",
    "                \n",
    "                        \n",
    "newlists()"
   ]
  },
  {
   "cell_type": "markdown",
   "metadata": {},
   "source": [
    "1. create four lists:\n",
    "a. Floats\n",
    "b. Ints\n",
    "c. Strings\n",
    "d. Booleans\n",
    "\n",
    "2. Place each item in the \"pythonlist\" in the right set created above.\n",
    "\n",
    "3. For the strings and booleans sets, sort the items\n",
    "\n",
    "4. "
   ]
  },
  {
   "cell_type": "code",
   "execution_count": 5,
   "metadata": {},
   "outputs": [
    {
     "name": "stdout",
     "output_type": "stream",
     "text": [
      "The original list: ['Ama', 54, 'Kojo', 45.5, 'Yhup', 52, 'Kwame', 96, 'Kwesi', 87, 'Roland', True, 'Nti', 45, 78.5, 'William', 68, 45.3, 78, 'Patty', False, 98, True, 'Adwoa', 21, 65, 'Pappy', 14, 'Folly', False, 52, 'Pency']\n",
      "Floats list : [45.5, 78.5, 45.3]\n",
      "Strings list : ['Adwoa', 'Ama', 'Folly', 'Kojo', 'Kwame', 'Kwesi', 'Nti', 'Pappy', 'Patty', 'Pency', 'Roland', 'William', 'Yhup']\n",
      "Integer list : [54, 52, 96, 87, True, 45, 68, 78, False, 98, True, 21, 65, 14, False, 52]\n",
      "Boolean  list : [False, False, True, True]\n"
     ]
    }
   ],
   "source": [
    "# 2nd attempt am okay here\n",
    "pythonlist = ['Ama', 54, 'Kojo', 45.5, 'Yhup', 52, 'Kwame', 96, 'Kwesi', 87, 'Roland', True, 'Nti',\n",
    "             45, 78.5, 'William', 68, 45.3, 78, 'Patty', False, 98, True, 'Adwoa',21, 65, 'Pappy',\n",
    "             14, 'Folly', False, 52, 'Pency']\n",
    "# printing the original list\n",
    "print('The original list: ' + str(pythonlist))\n",
    "# using list comprehension and isinstance\n",
    "Floats=[item for item in pythonlist if isinstance(item, float)]\n",
    "Strings =[item for item in pythonlist if isinstance(item, str)]\n",
    "Strings.sort()\n",
    "Ints=[item for item in pythonlist if isinstance(item, int)]\n",
    "Booleans=[item for item in pythonlist if isinstance(item, bool)]\n",
    "Booleans.sort()\n",
    "print('Floats list : ' + str(Floats))\n",
    "print('Strings list : ' + str(Strings))\n",
    "print('Integer list : ' + str(Ints))\n",
    "print('Boolean  list : ' + str(Booleans))"
   ]
  },
  {
   "cell_type": "code",
   "execution_count": null,
   "metadata": {},
   "outputs": [],
   "source": []
  },
  {
   "cell_type": "code",
   "execution_count": null,
   "metadata": {},
   "outputs": [],
   "source": []
  }
 ],
 "metadata": {
  "kernelspec": {
   "display_name": "Python 3",
   "language": "python",
   "name": "python3"
  },
  "language_info": {
   "codemirror_mode": {
    "name": "ipython",
    "version": 3
   },
   "file_extension": ".py",
   "mimetype": "text/x-python",
   "name": "python",
   "nbconvert_exporter": "python",
   "pygments_lexer": "ipython3",
   "version": "3.8.8"
  }
 },
 "nbformat": 4,
 "nbformat_minor": 2
}

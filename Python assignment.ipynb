{
 "cells": [
  {
   "cell_type": "markdown",
   "metadata": {},
   "source": [
    "# Assignment"
   ]
  },
  {
   "cell_type": "code",
   "execution_count": 1,
   "metadata": {},
   "outputs": [
    {
     "name": "stdout",
     "output_type": "stream",
     "text": [
      "The original list :  ['Ama', 54, 'Kojo', 45.5, 'Yhup', 52, 'Kwame', 96, 'Kwesi', 87, 'Roland', True, 'Nti', 45, 78.5, 'William', 68, 45.3, 78, 'Patty', False, 98, True, 'Adwoa', 21, 65, 'Pappy', 14, 'Folly', False, 52, 'Pency']\n",
      "The float list :  [45.5, 78.5, 45.3]\n",
      "The strings list :  ['Ama', 'Kojo', 'Yhup', 'Kwame', 'Kwesi', 'Roland', 'Nti', 'William', 'Patty', 'Adwoa', 'Pappy', 'Folly', 'Pency']\n",
      "The integer list :  [54, 52, 96, 87, True, 45, 68, 78, False, 98, True, 21, 65, 14, False, 52]\n",
      "The boleans list :  [True, False, True, False]\n",
      "The new string list :  ['Adwoa', 'Ama', 'Folly', 'Kojo', 'Kwame', 'Kwesi', 'Nti', 'Pappy', 'Patty', 'Pency', 'Roland', 'William', 'Yhup']\n",
      "The new bolean :  [False, False, True, True]\n",
      "The new integer list :  [54, 52, 96, 87, True, 45, 68, 78, False, 98, True, 21, 65, 14, False, 52]\n",
      "The 3rd highest integer :  14\n",
      "The 5th highest integer :  21\n",
      "[45.3, 45.5, 78.5]\n",
      "The 2nd largest float  : 45.5\n"
     ]
    }
   ],
   "source": [
    "pythonlist = ['Ama', 54, 'Kojo', 45.5, 'Yhup', 52, 'Kwame', 96, 'Kwesi', 87, 'Roland', True, 'Nti',\n",
    "             45, 78.5, 'William', 68, 45.3, 78, 'Patty', False, 98, True, 'Adwoa',21, 65, 'Pappy',\n",
    "             14, 'Folly', False, 52, 'Pency']\n",
    "# printing the original list\n",
    "print(\"The original list : \", str(pythonlist))\n",
    "Floats =[item for item in pythonlist if isinstance(item, float)]\n",
    "Strings = [item for item in pythonlist if isinstance(item, str)]\n",
    "Ints = [item for item in pythonlist if isinstance(item, int)]\n",
    "Boleans = [item for item in pythonlist if isinstance(item, bool)]\n",
    "Integer = [x for x in Ints if isinstance(x, int)]\n",
    "print(\"The float list : \" , str(Floats))\n",
    "print(\"The strings list : \" , str(Strings))\n",
    "print(\"The integer list : \" , str(Integer))\n",
    "print(\"The boleans list : \" , str(Boleans))\n",
    "#sorting the strings and the boleans\n",
    "Strings.sort()\n",
    "Boleans.sort()\n",
    "print(\"The new string list : \" , str(Strings))\n",
    "print(\"The new bolean : \", str(Boleans))\n",
    "# Q3 printing the 3rd and 5th hightest number\n",
    "Ints.sort()\n",
    "print(\"The new integer list : \", str(Integer))\n",
    "print(\"The 3rd highest integer : \", str(Integer[-3]))\n",
    "print(\"The 5th highest integer : \", str(Integer[-5]))\n",
    "\n",
    "# Q5 2nd largest for the float set\n",
    "Floats.sort()\n",
    "print(Floats)\n",
    "print(\"The 2nd largest float  :\" , str(Floats[-2]))\n"
   ]
  },
  {
   "cell_type": "markdown",
   "metadata": {},
   "source": [
    "1. create four empty lists:\n",
    "a. Floats\n",
    "b. Ints\n",
    "c. Strings\n",
    "d. Booleans\n"
   ]
  },
  {
   "cell_type": "markdown",
   "metadata": {},
   "source": [
    "\n",
    "2. For each item in the \"pythonlist\", place it in the right set created above.\n",
    "\n",
    "3. For the strings and booleans sets, sort the items\n",
    "\n",
    "4. For the int set, print out the 3rd and 5th highest number\n",
    "\n",
    "5. For the float set, print out the 2nd largest number"
   ]
  },
  {
   "cell_type": "code",
   "execution_count": null,
   "metadata": {},
   "outputs": [],
   "source": []
  }
 ],
 "metadata": {
  "kernelspec": {
   "display_name": "Python 3",
   "language": "python",
   "name": "python3"
  },
  "language_info": {
   "codemirror_mode": {
    "name": "ipython",
    "version": 3
   },
   "file_extension": ".py",
   "mimetype": "text/x-python",
   "name": "python",
   "nbconvert_exporter": "python",
   "pygments_lexer": "ipython3",
   "version": "3.8.8"
  }
 },
 "nbformat": 4,
 "nbformat_minor": 2
}
